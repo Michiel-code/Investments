{
 "cells": [
  {
   "cell_type": "raw",
   "metadata": {},
   "source": [
    "cd /c/Users/ikben/Investments\n",
    "git add Investments.ipynb\n",
    "git commit -m \"Start of project\"\n",
    "git push"
   ]
  },
  {
   "cell_type": "code",
   "execution_count": null,
   "metadata": {},
   "outputs": [],
   "source": [
    "https://pypi.org/project/yfinance/"
   ]
  },
  {
   "cell_type": "code",
   "execution_count": 4,
   "metadata": {},
   "outputs": [],
   "source": [
    "import os\n",
    "import pandas as pd\n",
    "import numpy as np\n",
    "\n",
    "import yfinance as yf"
   ]
  },
  {
   "cell_type": "code",
   "execution_count": 23,
   "metadata": {},
   "outputs": [],
   "source": [
    "def get_current_price(symbol):\n",
    "    ticker = yf.Ticker(symbol)\n",
    "    todays_data = ticker.history(period = 'max')\n",
    "    return todays_data"
   ]
  },
  {
   "cell_type": "code",
   "execution_count": 31,
   "metadata": {},
   "outputs": [
    {
     "data": {
      "text/plain": [
       "<matplotlib.axes._subplots.AxesSubplot at 0x1e6dcd6b940>"
      ]
     },
     "execution_count": 31,
     "metadata": {},
     "output_type": "execute_result"
    },
    {
     "data": {
      "image/png": "[encoded data removed]",
      "text/plain": [
       "<Figure size 432x288 with 1 Axes>"
      ]
     },
     "metadata": {
      "needs_background": "light"
     },
     "output_type": "display_data"
    }
   ],
   "source": [
    "stng_price = get_current_price('STNG')\n",
    "stng_price['Close'].plot()"
   ]
  },
  {
   "cell_type": "code",
   "execution_count": 46,
   "metadata": {},
   "outputs": [],
   "source": [
    "stng = yf.Ticker('STNG')\n",
    "balance_sheet_qtr = stng.get_balance_sheet(freq = 'quarterly')"
   ]
  },
  {
   "cell_type": "code",
   "execution_count": 48,
   "metadata": {},
   "outputs": [
    {
     "data": {
      "text/plain": [
       "\n",
       "2020-12-31    0.599551\n",
       "2020-09-30    0.592595\n",
       "2020-06-30    0.593633\n",
       "2020-03-31    0.615428\n",
       "dtype: float64"
      ]
     },
     "execution_count": 48,
     "metadata": {},
     "output_type": "execute_result"
    }
   ],
   "source": [
    "stng_debt_ratio = balance_sheet.T['Total Liab'] / balance_sheet.T['Total Assets']"
   ]
  },
  {
   "cell_type": "code",
   "execution_count": 39,
   "metadata": {},
   "outputs": [
    {
     "data": {
      "text/html": [
       "<div>\n",
       "<style scoped>\n",
       "    .dataframe tbody tr th:only-of-type {\n",
       "        vertical-align: middle;\n",
       "    }\n",
       "\n",
       "    .dataframe tbody tr th {\n",
       "        vertical-align: top;\n",
       "    }\n",
       "\n",
       "    .dataframe thead th {\n",
       "        text-align: right;\n",
       "    }\n",
       "</style>\n",
       "<table border=\"1\" class=\"dataframe\">\n",
       "  <thead>\n",
       "    <tr style=\"text-align: right;\">\n",
       "      <th></th>\n",
       "      <th>2020-12-31 00:00:00</th>\n",
       "      <th>2019-12-31 00:00:00</th>\n",
       "      <th>2018-12-31 00:00:00</th>\n",
       "      <th>2017-12-31 00:00:00</th>\n",
       "    </tr>\n",
       "  </thead>\n",
       "  <tbody>\n",
       "    <tr>\n",
       "      <th>Accounts Payable</th>\n",
       "      <td>1.286300e+07</td>\n",
       "      <td>2.312200e+07</td>\n",
       "      <td>1.186500e+07</td>\n",
       "      <td>1.088100e+07</td>\n",
       "    </tr>\n",
       "    <tr>\n",
       "      <th>Capital Surplus</th>\n",
       "      <td>2.850206e+09</td>\n",
       "      <td>2.842446e+09</td>\n",
       "      <td>2.648599e+09</td>\n",
       "      <td>2.283591e+09</td>\n",
       "    </tr>\n",
       "    <tr>\n",
       "      <th>Cash</th>\n",
       "      <td>1.875110e+08</td>\n",
       "      <td>2.023030e+08</td>\n",
       "      <td>5.936520e+08</td>\n",
       "      <td>1.864620e+08</td>\n",
       "    </tr>\n",
       "    <tr>\n",
       "      <th>Common Stock</th>\n",
       "      <td>6.560000e+05</td>\n",
       "      <td>6.460000e+05</td>\n",
       "      <td>5.776000e+06</td>\n",
       "      <td>3.766000e+06</td>\n",
       "    </tr>\n",
       "    <tr>\n",
       "      <th>Deferred Long Term Liab</th>\n",
       "      <td>1.424000e+06</td>\n",
       "      <td>4.039000e+06</td>\n",
       "      <td>2.813000e+06</td>\n",
       "      <td>7.020000e+05</td>\n",
       "    </tr>\n",
       "    <tr>\n",
       "      <th>Good Will</th>\n",
       "      <td>8.900000e+06</td>\n",
       "      <td>1.153900e+07</td>\n",
       "      <td>1.153900e+07</td>\n",
       "      <td>1.148200e+07</td>\n",
       "    </tr>\n",
       "    <tr>\n",
       "      <th>Inventory</th>\n",
       "      <td>9.261000e+06</td>\n",
       "      <td>8.646000e+06</td>\n",
       "      <td>8.300000e+06</td>\n",
       "      <td>9.713000e+06</td>\n",
       "    </tr>\n",
       "    <tr>\n",
       "      <th>Long Term Debt</th>\n",
       "      <td>9.711720e+08</td>\n",
       "      <td>9.992680e+08</td>\n",
       "      <td>1.192000e+09</td>\n",
       "      <td>1.937018e+09</td>\n",
       "    </tr>\n",
       "    <tr>\n",
       "      <th>Long Term Investments</th>\n",
       "      <td>1.751000e+06</td>\n",
       "      <td>1.751000e+06</td>\n",
       "      <td>1.751000e+06</td>\n",
       "      <td>NaN</td>\n",
       "    </tr>\n",
       "    <tr>\n",
       "      <th>Net Receivables</th>\n",
       "      <td>3.301700e+07</td>\n",
       "      <td>7.817400e+07</td>\n",
       "      <td>6.971800e+07</td>\n",
       "      <td>6.545800e+07</td>\n",
       "    </tr>\n",
       "    <tr>\n",
       "      <th>Net Tangible Assets</th>\n",
       "      <td>2.056868e+09</td>\n",
       "      <td>1.965450e+09</td>\n",
       "      <td>1.827473e+09</td>\n",
       "      <td>1.673819e+09</td>\n",
       "    </tr>\n",
       "    <tr>\n",
       "      <th>Other Assets</th>\n",
       "      <td>9.568700e+07</td>\n",
       "      <td>1.416810e+08</td>\n",
       "      <td>8.574400e+07</td>\n",
       "      <td>6.207100e+07</td>\n",
       "    </tr>\n",
       "    <tr>\n",
       "      <th>Other Current Liab</th>\n",
       "      <td>NaN</td>\n",
       "      <td>NaN</td>\n",
       "      <td>NaN</td>\n",
       "      <td>3.400000e+04</td>\n",
       "    </tr>\n",
       "    <tr>\n",
       "      <th>Property Plant Equipment</th>\n",
       "      <td>4.810067e+09</td>\n",
       "      <td>4.706061e+09</td>\n",
       "      <td>3.997789e+09</td>\n",
       "      <td>4.145470e+09</td>\n",
       "    </tr>\n",
       "    <tr>\n",
       "      <th>Retained Earnings</th>\n",
       "      <td>-3.049220e+08</td>\n",
       "      <td>-3.990460e+08</td>\n",
       "      <td>-3.483070e+08</td>\n",
       "      <td>-1.582400e+08</td>\n",
       "    </tr>\n",
       "    <tr>\n",
       "      <th>Short Long Term Debt</th>\n",
       "      <td>1.727050e+08</td>\n",
       "      <td>2.354820e+08</td>\n",
       "      <td>2.979340e+08</td>\n",
       "      <td>1.130360e+08</td>\n",
       "    </tr>\n",
       "    <tr>\n",
       "      <th>Total Assets</th>\n",
       "      <td>5.158624e+09</td>\n",
       "      <td>5.164010e+09</td>\n",
       "      <td>4.784164e+09</td>\n",
       "      <td>4.498376e+09</td>\n",
       "    </tr>\n",
       "    <tr>\n",
       "      <th>Total Current Assets</th>\n",
       "      <td>2.422190e+08</td>\n",
       "      <td>3.029780e+08</td>\n",
       "      <td>6.873410e+08</td>\n",
       "      <td>2.793530e+08</td>\n",
       "    </tr>\n",
       "    <tr>\n",
       "      <th>Total Current Liabilities</th>\n",
       "      <td>4.061750e+08</td>\n",
       "      <td>4.862310e+08</td>\n",
       "      <td>4.472000e+08</td>\n",
       "      <td>2.090640e+08</td>\n",
       "    </tr>\n",
       "    <tr>\n",
       "      <th>Total Liab</th>\n",
       "      <td>3.092856e+09</td>\n",
       "      <td>3.187021e+09</td>\n",
       "      <td>2.945152e+09</td>\n",
       "      <td>2.813075e+09</td>\n",
       "    </tr>\n",
       "    <tr>\n",
       "      <th>Total Stockholder Equity</th>\n",
       "      <td>2.065768e+09</td>\n",
       "      <td>1.976989e+09</td>\n",
       "      <td>1.839012e+09</td>\n",
       "      <td>1.685301e+09</td>\n",
       "    </tr>\n",
       "    <tr>\n",
       "      <th>Treasury Stock</th>\n",
       "      <td>-4.801720e+08</td>\n",
       "      <td>-4.670570e+08</td>\n",
       "      <td>-4.670560e+08</td>\n",
       "      <td>-4.438160e+08</td>\n",
       "    </tr>\n",
       "  </tbody>\n",
       "</table>\n",
       "</div>"
      ],
      "text/plain": [
       "                             2020-12-31    2019-12-31    2018-12-31  \\\n",
       "Accounts Payable           1.286300e+07  2.312200e+07  1.186500e+07   \n",
       "Capital Surplus            2.850206e+09  2.842446e+09  2.648599e+09   \n",
       "Cash                       1.875110e+08  2.023030e+08  5.936520e+08   \n",
       "Common Stock               6.560000e+05  6.460000e+05  5.776000e+06   \n",
       "Deferred Long Term Liab    1.424000e+06  4.039000e+06  2.813000e+06   \n",
       "Good Will                  8.900000e+06  1.153900e+07  1.153900e+07   \n",
       "Inventory                  9.261000e+06  8.646000e+06  8.300000e+06   \n",
       "Long Term Debt             9.711720e+08  9.992680e+08  1.192000e+09   \n",
       "Long Term Investments      1.751000e+06  1.751000e+06  1.751000e+06   \n",
       "Net Receivables            3.301700e+07  7.817400e+07  6.971800e+07   \n",
       "Net Tangible Assets        2.056868e+09  1.965450e+09  1.827473e+09   \n",
       "Other Assets               9.568700e+07  1.416810e+08  8.574400e+07   \n",
       "Other Current Liab                  NaN           NaN           NaN   \n",
       "Property Plant Equipment   4.810067e+09  4.706061e+09  3.997789e+09   \n",
       "Retained Earnings         -3.049220e+08 -3.990460e+08 -3.483070e+08   \n",
       "Short Long Term Debt       1.727050e+08  2.354820e+08  2.979340e+08   \n",
       "Total Assets               5.158624e+09  5.164010e+09  4.784164e+09   \n",
       "Total Current Assets       2.422190e+08  3.029780e+08  6.873410e+08   \n",
       "Total Current Liabilities  4.061750e+08  4.862310e+08  4.472000e+08   \n",
       "Total Liab                 3.092856e+09  3.187021e+09  2.945152e+09   \n",
       "Total Stockholder Equity   2.065768e+09  1.976989e+09  1.839012e+09   \n",
       "Treasury Stock            -4.801720e+08 -4.670570e+08 -4.670560e+08   \n",
       "\n",
       "                             2017-12-31  \n",
       "Accounts Payable           1.088100e+07  \n",
       "Capital Surplus            2.283591e+09  \n",
       "Cash                       1.864620e+08  \n",
       "Common Stock               3.766000e+06  \n",
       "Deferred Long Term Liab    7.020000e+05  \n",
       "Good Will                  1.148200e+07  \n",
       "Inventory                  9.713000e+06  \n",
       "Long Term Debt             1.937018e+09  \n",
       "Long Term Investments               NaN  \n",
       "Net Receivables            6.545800e+07  \n",
       "Net Tangible Assets        1.673819e+09  \n",
       "Other Assets               6.207100e+07  \n",
       "Other Current Liab         3.400000e+04  \n",
       "Property Plant Equipment   4.145470e+09  \n",
       "Retained Earnings         -1.582400e+08  \n",
       "Short Long Term Debt       1.130360e+08  \n",
       "Total Assets               4.498376e+09  \n",
       "Total Current Assets       2.793530e+08  \n",
       "Total Current Liabilities  2.090640e+08  \n",
       "Total Liab                 2.813075e+09  \n",
       "Total Stockholder Equity   1.685301e+09  \n",
       "Treasury Stock            -4.438160e+08  "
      ]
     },
     "execution_count": 39,
     "metadata": {},
     "output_type": "execute_result"
    }
   ],
   "source": [
    "balance_sheet"
   ]
  },
  {
   "cell_type": "code",
   "execution_count": 45,
   "metadata": {},
   "outputs": [
    {
     "name": "stdout",
     "output_type": "stream",
     "text": [
      "Help on function get_balance_sheet in module yfinance.base:\n",
      "\n",
      "get_balance_sheet(self, proxy=None, as_dict=False, freq='yearly')\n",
      "\n"
     ]
    }
   ],
   "source": [
    "help(yf.Ticker.get_balance_sheet)"
   ]
  },
  {
   "cell_type": "code",
   "execution_count": null,
   "metadata": {},
   "outputs": [],
   "source": []
  }
 ],
 "metadata": {
  "kernelspec": {
   "display_name": "Python 3",
   "language": "python",
   "name": "python3"
  },
  "language_info": {
   "codemirror_mode": {
    "name": "ipython",
    "version": 3
   },
   "file_extension": ".py",
   "mimetype": "text/x-python",
   "name": "python",
   "nbconvert_exporter": "python",
   "pygments_lexer": "ipython3",
   "version": "3.7.3"
  }
 },
 "nbformat": 4,
 "nbformat_minor": 2
}
